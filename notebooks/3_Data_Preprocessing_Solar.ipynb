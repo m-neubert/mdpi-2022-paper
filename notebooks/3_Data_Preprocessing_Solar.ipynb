{
 "cells": [
  {
   "cell_type": "markdown",
   "id": "868c54a1",
   "metadata": {},
   "source": [
    "<span style=\"color:gray\">\n",
    "Fraunhofer Institute for Integrated Circuits IIS, Division Engineering of Adaptive Systems EAS<br>\n",
    "Münchner Straße 16, 01187 Dresden, Germany\n",
    "</span>\n",
    "\n",
    "---\n",
    "\n",
    "## ESB - Energy Saving by Blockchain\n",
    "\n",
    "---\n",
    "\n",
    "## Detection of Electric Vehicles and Solar Systems in Smart Meter Data\n",
    "\n",
    "---\n",
    "\n",
    "# 3: Data Preprocessing Solar\n",
    "\n",
    "\n",
    "In these notebook, the time series from the locations New York, California, and Austin locations are split into training, testing, and validation data of different input time spans. Furthermore, a kernel density estimate is applied to the split datasets."
   ]
  },
  {
   "cell_type": "code",
   "execution_count": null,
   "id": "51a7bfef",
   "metadata": {},
   "outputs": [],
   "source": [
    "import pandas as pd\n",
    "import numpy as np\n",
    "import random\n",
    "from sklearn.neighbors import KernelDensity\n",
    "from sklearn.model_selection import train_test_split"
   ]
  },
  {
   "cell_type": "code",
   "execution_count": null,
   "id": "007c1e46",
   "metadata": {},
   "outputs": [],
   "source": [
    "path=''\n",
    "\n",
    "newyork = pd.read_csv (path + '1hour_data_newyork.csv', header=0, sep=',',decimal=\".\")\n",
    "california = pd.read_csv (path + '1hour_data_california.csv', header=0, sep=',',decimal=\".\")\n",
    "austin = pd.read_csv (path + '1hour_data_austin.csv', header=0, sep=',',decimal=\".\")\n",
    "\n",
    "\n",
    "california_df = pd.read_csv (path+'1hour_data_california.csv',header=0, sep=',',decimal=\".\")\n",
    "california_df.loc[:,\"local_15min\"] = pd.to_datetime(california_df.loc[:,\"local_15min\"])\n",
    "california_df.loc[:,\"year_month\"] = california_df[\"local_15min\"].dt.year.astype(\"str\")\\\n",
    "    + \"_\" + california_df[\"local_15min\"].dt.month.apply(lambda x: f\"{x:02d}\")\n",
    "\n",
    "austin_df = pd.read_csv (path+'1hour_data_austin.csv',header=0, sep=',',decimal=\".\")\n",
    "austin_df.loc[:,\"local_15min\"] = pd.to_datetime(austin_df.loc[:,\"local_15min\"])\n",
    "austin_df.loc[:,\"year_month\"] = austin_df[\"local_15min\"].dt.year.astype(\"str\")\\\n",
    "    + \"_\" + austin_df[\"local_15min\"].dt.month.apply(lambda x: f\"{x:02d}\")\n",
    "\n",
    "newyork_df = pd.read_csv (path+'1hour_data_newyork.csv',header=0, sep=',',decimal=\".\")\n",
    "newyork_df.loc[:,\"local_15min\"] = pd.to_datetime(newyork_df.loc[:,\"local_15min\"])\n",
    "newyork_df.loc[:,\"year_month\"] = newyork_df[\"local_15min\"].dt.year.astype(\"str\")\\\n",
    "    + \"_\" + newyork_df[\"local_15min\"].dt.month.apply(lambda x: f\"{x:02d}\")"
   ]
  },
  {
   "cell_type": "code",
   "execution_count": null,
   "id": "39273f1d",
   "metadata": {},
   "outputs": [],
   "source": [
    "california_customer_has_solar = california_df.groupby(\"dataid\")[[\"solar\", \"solar2\"]].max().max(axis=1)>0\n",
    "california_customers_with_solar = list(california_customer_has_solar[california_customer_has_solar].index)\n",
    "california_customers_without_solar = list(california_customer_has_solar[~california_customer_has_solar].index)\n",
    "\n",
    "california_df_with_solar = california_df.loc[california_df[\"dataid\"].isin(california_customers_with_solar),:]\n",
    "california_df_without_solar = california_df.loc[california_df[\"dataid\"].isin(california_customers_without_solar),:]\n",
    "\n",
    "print(\"California:\",\n",
    "      f\"\\nThe customers {california_customers_with_solar} have a solar system.\",\n",
    "      f\"\\nThe customers {california_customers_without_solar} do not have a solar system.\")\n",
    "\n",
    "\n",
    "austin_customer_has_solar = austin_df.groupby(\"dataid\")[[\"solar\", \"solar2\"]].max().max(axis=1)>0\n",
    "austin_customers_with_solar = list(austin_customer_has_solar[austin_customer_has_solar].index)\n",
    "austin_customers_without_solar = list(austin_customer_has_solar[~austin_customer_has_solar].index)\n",
    "\n",
    "austin_df_with_solar = austin_df.loc[austin_df[\"dataid\"].isin(austin_customers_with_solar),:]\n",
    "austin_df_without_solar = austin_df.loc[austin_df[\"dataid\"].isin(austin_customers_without_solar),:]\n",
    "\n",
    "print(\"austin:\",\n",
    "      f\"\\nThe customers {austin_customers_with_solar} have a solar system.\",\n",
    "      f\"\\nThe customers {austin_customers_without_solar} do not have a solar system.\")\n",
    "\n",
    "\n",
    "newyork_customer_has_solar = newyork_df.groupby(\"dataid\")[[\"solar\", \"solar2\"]].max().max(axis=1)>0\n",
    "newyork_customers_with_solar = list(newyork_customer_has_solar[newyork_customer_has_solar].index)\n",
    "newyork_customers_without_solar = list(newyork_customer_has_solar[~newyork_customer_has_solar].index)\n",
    "\n",
    "newyork_df_with_solar = newyork_df.loc[newyork_df[\"dataid\"].isin(newyork_customers_with_solar),:]\n",
    "newyork_df_without_solar = newyork_df.loc[newyork_df[\"dataid\"].isin(newyork_customers_without_solar),:]\n",
    "\n",
    "print(\"New York:\",\n",
    "      f\"\\nThe customers {newyork_customers_with_solar} have a solar system.\",\n",
    "      f\"\\nThe customers {newyork_customers_without_solar} do not have a solar system.\")"
   ]
  },
  {
   "cell_type": "code",
   "execution_count": null,
   "id": "4214f96f",
   "metadata": {},
   "outputs": [],
   "source": [
    "newyork_df_with_solar.loc[:,\"customer\"] = newyork_df_with_solar.loc[:,\"dataid\"].apply(lambda x: f\"ny_{x}\")\n",
    "newyork_df_without_solar.loc[:,\"customer\"] = newyork_df_without_solar.loc[:,\"dataid\"].apply(lambda x: f\"ny_{x}\")\n",
    "austin_df_with_solar.loc[:,\"customer\"] = austin_df_with_solar.loc[:,\"dataid\"].apply(lambda x: f\"a_{x}\")\n",
    "austin_df_without_solar.loc[:,\"customer\"] = austin_df_without_solar.loc[:,\"dataid\"].apply(lambda x: f\"a_{x}\")\n",
    "california_df_with_solar.loc[:,\"customer\"] = california_df_with_solar.loc[:,\"dataid\"].apply(lambda x: f\"c_{x}\")\n",
    "california_df_without_solar.loc[:,\"customer\"] = california_df_without_solar.loc[:,\"dataid\"].apply(lambda x: f\"c_{x}\")"
   ]
  },
  {
   "cell_type": "code",
   "execution_count": null,
   "id": "47c788e5",
   "metadata": {},
   "outputs": [],
   "source": [
    "with_solar_df = pd.concat([newyork_df_with_solar, california_df_with_solar, austin_df_with_solar]).drop(columns=\"dataid\")\n",
    "without_solar_df = pd.concat([newyork_df_without_solar, california_df_without_solar, austin_df_without_solar]).drop(columns=\"dataid\")"
   ]
  },
  {
   "cell_type": "markdown",
   "id": "2eabc988",
   "metadata": {},
   "source": [
    "#### Split the dataset into 80% training data and 20% validation data"
   ]
  },
  {
   "cell_type": "code",
   "execution_count": null,
   "id": "80623ce6",
   "metadata": {},
   "outputs": [],
   "source": [
    "ts = 0.8\n",
    "customers_with_solar_train, customers_with_solar_val = train_test_split(with_solar_df[\"customer\"].unique(),\n",
    "                                                                  train_size=ts, random_state=123)\n",
    "customers_without_solar_train, customers_without_solar_val = train_test_split(without_solar_df[\"customer\"].unique(),\n",
    "                                                                        train_size=ts, random_state=123)"
   ]
  },
  {
   "cell_type": "markdown",
   "id": "82e4bbe7",
   "metadata": {},
   "source": [
    "#### Split training data into 70% training data and 10% test data"
   ]
  },
  {
   "cell_type": "code",
   "execution_count": null,
   "id": "6a2a1045",
   "metadata": {},
   "outputs": [],
   "source": [
    "ts = 0.9\n",
    "customers_with_solar_train, customers_with_solar_test = train_test_split(customers_with_solar_train,\n",
    "                                                                  train_size=ts, random_state=123)\n",
    "customers_without_solar_train, customers_without_solar_test = train_test_split(customers_without_solar_train,\n",
    "                                                                        train_size=ts, random_state=123)"
   ]
  },
  {
   "cell_type": "markdown",
   "id": "84836780",
   "metadata": {},
   "source": [
    "### Monthly input time span"
   ]
  },
  {
   "cell_type": "code",
   "execution_count": null,
   "id": "3d697ff1",
   "metadata": {},
   "outputs": [],
   "source": [
    "with_solar_df['Month_Number'] = with_solar_df['local_15min'].dt.month\n",
    "\n",
    "grouped_with_solar = with_solar_df.groupby(['customer', 'Month_Number']).agg({'Month_Number': 'first'})\n",
    "grouped_with_solar=grouped_with_solar.reset_index('customer')\n",
    "grouped_with_solar.reset_index(drop=True, inplace=True)\n",
    "grouped_with_solar=grouped_with_solar.to_numpy()\n",
    "\n",
    "\n",
    "without_solar_df['Month_Number'] = without_solar_df['local_15min'].dt.month\n",
    "\n",
    "grouped_without_solar = without_solar_df.groupby(['customer', 'Month_Number']).agg({'Month_Number': 'first'})\n",
    "grouped_without_solar=grouped_without_solar.reset_index('customer')\n",
    "grouped_without_solar.reset_index(drop=True, inplace=True)\n",
    "grouped_without_solar=grouped_without_solar.to_numpy()"
   ]
  },
  {
   "cell_type": "code",
   "execution_count": null,
   "id": "b0e3c28c",
   "metadata": {},
   "outputs": [],
   "source": [
    "def create_train_test_val_set(customers_with_solar, customers_without_solar, time_interval):\n",
    "    \n",
    "    x_set = pd.DataFrame()\n",
    "    for i in customers_with_solar:\n",
    "        print(i + \"-----------------------------------\")\n",
    "        for j in grouped_with_solar:\n",
    "            if i == j[0]:\n",
    "                print(j)\n",
    "                x_set=pd.concat([x_set,with_solar_df['grid'].loc[(with_solar_df['customer'] == j[0]) & (with_solar_df[time_interval] == j[1])].reset_index(drop=True)], ignore_index=True, axis=1)\n",
    "\n",
    "    y_set = np.ones(x_set.shape[1])\n",
    "    \n",
    "    for i in customers_without_solar:\n",
    "        print(i + \"-----------------------------------\")\n",
    "        for j in grouped_without_solar:\n",
    "            if i == j[0]:\n",
    "                print(j)\n",
    "                x_set=pd.concat([x_set,without_solar_df['grid'].loc[(without_solar_df['customer'] == j[0]) & (without_solar_df[time_interval] == j[1])].reset_index(drop=True)], ignore_index=True, axis=1)\n",
    "\n",
    "    y_set = pd.DataFrame(np.concatenate([y_set, np.zeros(x_set.shape[1] - len(y_set))])).astype(int)\n",
    "    \n",
    "    if time_interval == 'Month_Number':\n",
    "        x_set=x_set.loc[:719,:].T.fillna(0)\n",
    "        \n",
    "    if time_interval == 'Week_Number':\n",
    "        x_set=x_set.loc[:167,:].T.fillna(0)\n",
    "        \n",
    "    if time_interval == 'Day_Number':\n",
    "        x_set=x_set.T.fillna(0)\n",
    "        \n",
    "    return x_set, y_set"
   ]
  },
  {
   "cell_type": "code",
   "execution_count": null,
   "id": "45ecce32",
   "metadata": {},
   "outputs": [],
   "source": [
    "X_train,Y_train=create_train_test_val_set(customers_with_solar_train, customers_without_solar_train, 'Month_Number')\n",
    "\n",
    "X_test,Y_test=create_train_test_val_set(customers_with_solar_test, customers_without_solar_test, 'Month_Number')\n",
    "\n",
    "X_val,Y_val=create_train_test_val_set(customers_with_solar_val, customers_without_solar_val, 'Month_Number')"
   ]
  },
  {
   "cell_type": "code",
   "execution_count": null,
   "id": "89496433",
   "metadata": {},
   "outputs": [],
   "source": [
    "discr = np.linspace(-10, 20, 100).reshape(-1, 1)\n",
    "\n",
    "def calc_kde(X, discr=discr):\n",
    "    kde = KernelDensity(kernel='gaussian', bandwidth=.75).fit(X.values.reshape(-1, 1))\n",
    "    return np.exp(kde.score_samples(discr))"
   ]
  },
  {
   "cell_type": "code",
   "execution_count": null,
   "id": "5253acb6",
   "metadata": {},
   "outputs": [],
   "source": [
    "X_train_KDE = pd.DataFrame(np.stack(X_train.apply(calc_kde, axis=1).values))\n",
    "\n",
    "X_test_KDE = pd.DataFrame(np.stack(X_test.apply(calc_kde, axis=1).values))\n",
    "\n",
    "X_val_KDE = pd.DataFrame(np.stack(X_val.apply(calc_kde, axis=1).values))"
   ]
  },
  {
   "cell_type": "code",
   "execution_count": null,
   "id": "b1474f1a",
   "metadata": {},
   "outputs": [],
   "source": [
    "path = ''\n",
    "\n",
    "X_train.to_csv(path + 'solar/monthly/X_train.csv', sep=',', encoding='utf-8', index=False)\n",
    "X_test.to_csv(path + 'solar/monthly/X_test.csv', sep=',', encoding='utf-8', index=False)\n",
    "X_val.to_csv(path + 'solar/monthly/X_val.csv', sep=',', encoding='utf-8', index=False)\n",
    "\n",
    "X_train_KDE.to_csv(path + 'solar/monthly/X_train_KDE.csv', sep=',', encoding='utf-8', index=False)\n",
    "X_test_KDE.to_csv(path + 'solar/monthly/X_test_KDE.csv', sep=',', encoding='utf-8', index=False)\n",
    "X_val_KDE.to_csv(path + 'solar/monthly/X_val_KDE.csv', sep=',', encoding='utf-8', index=False)\n",
    "\n",
    "Y_train.to_csv(path + 'solar/monthly/Y_train.csv', sep=',', encoding='utf-8', index=False)\n",
    "Y_test.to_csv(path + 'solar/monthly/Y_test.csv', sep=',', encoding='utf-8', index=False)\n",
    "Y_val.to_csv(path + 'solar/monthly/Y_val.csv', sep=',', encoding='utf-8', index=False)"
   ]
  },
  {
   "cell_type": "markdown",
   "id": "899ff2ce",
   "metadata": {},
   "source": [
    "### Weekly input time span"
   ]
  },
  {
   "cell_type": "code",
   "execution_count": null,
   "id": "90556b79",
   "metadata": {},
   "outputs": [],
   "source": [
    "with_solar_df['Week_Number'] = with_solar_df['local_15min'].dt.week\n",
    "\n",
    "grouped_with_solar = with_solar_df.groupby(['customer', 'Week_Number']).agg({'Week_Number': 'first'})\n",
    "grouped_with_solar=grouped_with_solar.reset_index('customer')\n",
    "grouped_with_solar.reset_index(drop=True, inplace=True)\n",
    "grouped_with_solar=grouped_with_solar.to_numpy()\n",
    "\n",
    "\n",
    "without_solar_df['Week_Number'] = without_solar_df['local_15min'].dt.week\n",
    "\n",
    "grouped_without_solar = without_solar_df.groupby(['customer', 'Week_Number']).agg({'Week_Number': 'first'})\n",
    "grouped_without_solar=grouped_without_solar.reset_index('customer')\n",
    "grouped_without_solar.reset_index(drop=True, inplace=True)\n",
    "grouped_without_solar=grouped_without_solar.to_numpy()"
   ]
  },
  {
   "cell_type": "code",
   "execution_count": null,
   "id": "acb0b941",
   "metadata": {},
   "outputs": [],
   "source": [
    "X_train,Y_train=create_train_test_val_set(customers_with_solar_train, customers_without_solar_train, 'Week_Number')\n",
    "\n",
    "X_test,Y_test=create_train_test_val_set(customers_with_solar_test, customers_without_solar_test, 'Week_Number')\n",
    "\n",
    "X_val,Y_val=create_train_test_val_set(customers_with_solar_val, customers_without_solar_val, 'Week_Number')"
   ]
  },
  {
   "cell_type": "code",
   "execution_count": null,
   "id": "b7474b4e",
   "metadata": {},
   "outputs": [],
   "source": [
    "X_train_KDE = pd.DataFrame(np.stack(X_train.apply(calc_kde, axis=1).values))\n",
    "\n",
    "X_test_KDE = pd.DataFrame(np.stack(X_test.apply(calc_kde, axis=1).values))\n",
    "\n",
    "X_val_KDE = pd.DataFrame(np.stack(X_val.apply(calc_kde, axis=1).values))"
   ]
  },
  {
   "cell_type": "code",
   "execution_count": null,
   "id": "4ff5e6db",
   "metadata": {},
   "outputs": [],
   "source": [
    "path = ''\n",
    "\n",
    "X_train.to_csv(path + 'solar/weekly/X_train.csv', sep=',', encoding='utf-8', index=False)\n",
    "X_test.to_csv(path + 'solar/weekly/X_test.csv', sep=',', encoding='utf-8', index=False)\n",
    "X_val.to_csv(path + 'solar/weekly/X_val.csv', sep=',', encoding='utf-8', index=False)\n",
    "\n",
    "X_train_KDE.to_csv(path + 'solar/weekly/X_train_KDE.csv', sep=',', encoding='utf-8', index=False)\n",
    "X_test_KDE.to_csv(path + 'solar/weekly/X_test_KDE.csv', sep=',', encoding='utf-8', index=False)\n",
    "X_val_KDE.to_csv(path + 'solar/weekly/X_val_KDE.csv', sep=',', encoding='utf-8', index=False)\n",
    "\n",
    "Y_train.to_csv(path + 'solar/weekly/Y_train.csv', sep=',', encoding='utf-8', index=False)\n",
    "Y_test.to_csv(path + 'solar/weekly/Y_test.csv', sep=',', encoding='utf-8', index=False)\n",
    "Y_val.to_csv(path + 'solar/weekly/Y_val.csv', sep=',', encoding='utf-8', index=False)"
   ]
  },
  {
   "cell_type": "markdown",
   "id": "f7fa121f",
   "metadata": {},
   "source": [
    "### Daily input time span"
   ]
  },
  {
   "cell_type": "code",
   "execution_count": null,
   "id": "f2259cbc",
   "metadata": {},
   "outputs": [],
   "source": [
    "with_solar_df['Day_Number'] = with_solar_df['local_15min'].dt.date\n",
    "\n",
    "grouped_with_solar = with_solar_df.groupby(['customer', 'Day_Number']).agg({'Day_Number': 'first'})\n",
    "grouped_with_solar=grouped_with_solar.reset_index('customer')\n",
    "grouped_with_solar.reset_index(drop=True, inplace=True)\n",
    "grouped_with_solar=grouped_with_solar.to_numpy()\n",
    "\n",
    "\n",
    "without_solar_df['Day_Number'] = without_solar_df['local_15min'].dt.date\n",
    "\n",
    "grouped_without_solar = without_solar_df.groupby(['customer', 'Day_Number']).agg({'Day_Number': 'first'})\n",
    "grouped_without_solar=grouped_without_solar.reset_index('customer')\n",
    "grouped_without_solar.reset_index(drop=True, inplace=True)\n",
    "grouped_without_solar=grouped_without_solar.to_numpy()"
   ]
  },
  {
   "cell_type": "code",
   "execution_count": null,
   "id": "93debb34",
   "metadata": {},
   "outputs": [],
   "source": [
    "X_train,Y_train=create_train_test_val_set(customers_with_solar_train, customers_without_solar_train, 'Day_Number')\n",
    "\n",
    "X_test,Y_test=create_train_test_val_set(customers_with_solar_test, customers_without_solar_test, 'Day_Number')\n",
    "\n",
    "X_val,Y_val=create_train_test_val_set(customers_with_solar_val, customers_without_solar_val, 'Day_Number')"
   ]
  },
  {
   "cell_type": "code",
   "execution_count": null,
   "id": "0aeb557c",
   "metadata": {},
   "outputs": [],
   "source": [
    "X_train_KDE = pd.DataFrame(np.stack(X_train.apply(calc_kde, axis=1).values))\n",
    "\n",
    "X_test_KDE = pd.DataFrame(np.stack(X_test.apply(calc_kde, axis=1).values))\n",
    "\n",
    "X_val_KDE = pd.DataFrame(np.stack(X_val.apply(calc_kde, axis=1).values))"
   ]
  },
  {
   "cell_type": "code",
   "execution_count": null,
   "id": "c882b12f",
   "metadata": {},
   "outputs": [],
   "source": [
    "path = ''\n",
    "\n",
    "X_train.to_csv(path + 'solar/daily/X_train.csv', sep=',', encoding='utf-8', index=False)\n",
    "X_test.to_csv(path + 'solar/daily/X_test.csv', sep=',', encoding='utf-8', index=False)\n",
    "X_val.to_csv(path + 'solar/daily/X_val.csv', sep=',', encoding='utf-8', index=False)\n",
    "\n",
    "X_train_KDE.to_csv(path + 'solar/daily/X_train_KDE.csv', sep=',', encoding='utf-8', index=False)\n",
    "X_test_KDE.to_csv(path + 'solar/daily/X_test_KDE.csv', sep=',', encoding='utf-8', index=False)\n",
    "X_val_KDE.to_csv(path + 'solar/daily/X_val_KDE.csv', sep=',', encoding='utf-8', index=False)\n",
    "\n",
    "Y_train.to_csv(path + 'solar/daily/Y_train.csv', sep=',', encoding='utf-8', index=False)\n",
    "Y_test.to_csv(path + 'solar/daily/Y_test.csv', sep=',', encoding='utf-8', index=False)\n",
    "Y_val.to_csv(path + 'solar/daily/Y_val.csv', sep=',', encoding='utf-8', index=False)"
   ]
  }
 ],
 "metadata": {
  "kernelspec": {
   "display_name": "Python 3",
   "language": "python",
   "name": "python3"
  },
  "language_info": {
   "codemirror_mode": {
    "name": "ipython",
    "version": 3
   },
   "file_extension": ".py",
   "mimetype": "text/x-python",
   "name": "python",
   "nbconvert_exporter": "python",
   "pygments_lexer": "ipython3",
   "version": "3.9.5"
  }
 },
 "nbformat": 4,
 "nbformat_minor": 5
}
