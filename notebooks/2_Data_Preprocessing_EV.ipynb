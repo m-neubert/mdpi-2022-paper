{
 "cells": [
  {
   "cell_type": "markdown",
   "id": "11de49ca",
   "metadata": {},
   "source": [
    "<span style=\"color:gray\">\n",
    "Fraunhofer Institute for Integrated Circuits IIS, Division Engineering of Adaptive Systems EAS<br>\n",
    "Münchner Straße 16, 01187 Dresden, Germany\n",
    "</span>\n",
    "\n",
    "---\n",
    "\n",
    "## ESB - Energy Saving by Blockchain\n",
    "\n",
    "---\n",
    "\n",
    "## Detection of Electric Vehicles and Photovoltaic Systems in Smart Meter Data\n",
    "\n",
    "---\n",
    "\n",
    "# 2: Data Preprocessing EV\n",
    "\n",
    "\n",
    "In these notebook, the time series from the locations New York, California, and Austin locations are split into training, testing, and validation data of different input time spans. Furthermore, a kernel density estimate is applied to the split datasets."
   ]
  },
  {
   "cell_type": "code",
   "execution_count": null,
   "id": "ebbe5ba9",
   "metadata": {},
   "outputs": [],
   "source": [
    "import pandas as pd\n",
    "import numpy as np\n",
    "import random\n",
    "from sklearn.neighbors import KernelDensity\n",
    "from sklearn.model_selection import train_test_split"
   ]
  },
  {
   "cell_type": "code",
   "execution_count": null,
   "id": "0cf6d7db",
   "metadata": {},
   "outputs": [],
   "source": [
    "path=''\n",
    "\n",
    "newyork = pd.read_csv (path + '1hour_data_newyork.csv', header=0, sep=',',decimal=\".\")\n",
    "california = pd.read_csv (path + '1hour_data_california.csv', header=0, sep=',',decimal=\".\")\n",
    "austin = pd.read_csv (path + '1hour_data_austin.csv', header=0, sep=',',decimal=\".\")\n",
    "\n",
    "\n",
    "california_df = pd.read_csv (path+'1hour_data_california.csv',header=0, sep=',',decimal=\".\")\n",
    "california_df.loc[:,\"local_15min\"] = pd.to_datetime(california_df.loc[:,\"local_15min\"])\n",
    "california_df.loc[:,\"year_month\"] = california_df[\"local_15min\"].dt.year.astype(\"str\")\\\n",
    "    + \"_\" + california_df[\"local_15min\"].dt.month.apply(lambda x: f\"{x:02d}\")\n",
    "\n",
    "austin_df = pd.read_csv (path+'1hour_data_austin.csv',header=0, sep=',',decimal=\".\")\n",
    "austin_df.loc[:,\"local_15min\"] = pd.to_datetime(austin_df.loc[:,\"local_15min\"])\n",
    "austin_df.loc[:,\"year_month\"] = austin_df[\"local_15min\"].dt.year.astype(\"str\")\\\n",
    "    + \"_\" + austin_df[\"local_15min\"].dt.month.apply(lambda x: f\"{x:02d}\")\n",
    "\n",
    "newyork_df = pd.read_csv (path+'1hour_data_newyork.csv',header=0, sep=',',decimal=\".\")\n",
    "newyork_df.loc[:,\"local_15min\"] = pd.to_datetime(newyork_df.loc[:,\"local_15min\"])\n",
    "newyork_df.loc[:,\"year_month\"] = newyork_df[\"local_15min\"].dt.year.astype(\"str\")\\\n",
    "    + \"_\" + newyork_df[\"local_15min\"].dt.month.apply(lambda x: f\"{x:02d}\")"
   ]
  },
  {
   "cell_type": "code",
   "execution_count": null,
   "id": "2aecd16c",
   "metadata": {},
   "outputs": [],
   "source": [
    "california_customer_has_ev = california_df.groupby(\"dataid\")[[\"car1\", \"car2\"]].max().max(axis=1)>0\n",
    "california_customers_with_ev = list(california_customer_has_ev[california_customer_has_ev].index)\n",
    "california_customers_without_ev = list(california_customer_has_ev[~california_customer_has_ev].index)\n",
    "\n",
    "california_df_with_EV = california_df.loc[california_df[\"dataid\"].isin(california_customers_with_ev),:]\n",
    "california_df_without_EV = california_df.loc[california_df[\"dataid\"].isin(california_customers_without_ev),:]\n",
    "\n",
    "print(\"California:\",\n",
    "      f\"\\nThe customers {california_customers_with_ev} have an EV.\",\n",
    "      f\"\\nThe customers {california_customers_without_ev} do not have an EV.\")\n",
    "\n",
    "\n",
    "austin_customer_has_ev = austin_df.groupby(\"dataid\")[[\"car1\", \"car2\"]].max().max(axis=1)>0\n",
    "austin_customers_with_ev = list(austin_customer_has_ev[austin_customer_has_ev].index)\n",
    "austin_customers_without_ev = list(austin_customer_has_ev[~austin_customer_has_ev].index)\n",
    "\n",
    "austin_df_with_EV = austin_df.loc[austin_df[\"dataid\"].isin(austin_customers_with_ev),:]\n",
    "austin_df_without_EV = austin_df.loc[austin_df[\"dataid\"].isin(austin_customers_without_ev),:]\n",
    "\n",
    "print(\"austin:\",\n",
    "      f\"\\nThe customers {austin_customers_with_ev} have an EV.\",\n",
    "      f\"\\nThe customers {austin_customers_without_ev} do not have an EV.\")\n",
    "\n",
    "\n",
    "newyork_customer_has_ev = newyork_df.groupby(\"dataid\")[[\"car1\", \"car2\"]].max().max(axis=1)>0\n",
    "newyork_customers_with_ev = list(newyork_customer_has_ev[newyork_customer_has_ev].index)\n",
    "newyork_customers_without_ev = list(newyork_customer_has_ev[~newyork_customer_has_ev].index)\n",
    "\n",
    "newyork_df_with_EV = newyork_df.loc[newyork_df[\"dataid\"].isin(newyork_customers_with_ev),:]\n",
    "newyork_df_without_EV = newyork_df.loc[newyork_df[\"dataid\"].isin(newyork_customers_without_ev),:]\n",
    "\n",
    "print(\"New York:\",\n",
    "      f\"\\nThe customers {newyork_customers_with_ev} have an EV.\",\n",
    "      f\"\\nThe customers {newyork_customers_without_ev} do not have an EV.\")"
   ]
  },
  {
   "cell_type": "code",
   "execution_count": null,
   "id": "9aeaa3d7",
   "metadata": {},
   "outputs": [],
   "source": [
    "newyork_df_with_EV.loc[:,\"customer\"] = newyork_df_with_EV.loc[:,\"dataid\"].apply(lambda x: f\"ny_{x}\")\n",
    "newyork_df_without_EV.loc[:,\"customer\"] = newyork_df_without_EV.loc[:,\"dataid\"].apply(lambda x: f\"ny_{x}\")\n",
    "austin_df_with_EV.loc[:,\"customer\"] = austin_df_with_EV.loc[:,\"dataid\"].apply(lambda x: f\"a_{x}\")\n",
    "austin_df_without_EV.loc[:,\"customer\"] = austin_df_without_EV.loc[:,\"dataid\"].apply(lambda x: f\"a_{x}\")\n",
    "california_df_with_EV.loc[:,\"customer\"] = california_df_with_EV.loc[:,\"dataid\"].apply(lambda x: f\"c_{x}\")\n",
    "california_df_without_EV.loc[:,\"customer\"] = california_df_without_EV.loc[:,\"dataid\"].apply(lambda x: f\"c_{x}\")"
   ]
  },
  {
   "cell_type": "code",
   "execution_count": null,
   "id": "2aa76438",
   "metadata": {},
   "outputs": [],
   "source": [
    "with_ev_df = pd.concat([newyork_df_with_EV, california_df_with_EV, austin_df_with_EV]).drop(columns=\"dataid\")\n",
    "without_ev_df = pd.concat([newyork_df_without_EV, california_df_without_EV, austin_df_without_EV]).drop(columns=\"dataid\")"
   ]
  },
  {
   "cell_type": "markdown",
   "id": "0e0f05dd",
   "metadata": {},
   "source": [
    "#### Split the dataset into 80% training data and 20% validation data"
   ]
  },
  {
   "cell_type": "code",
   "execution_count": null,
   "id": "f758498c",
   "metadata": {},
   "outputs": [],
   "source": [
    "ts = 0.8\n",
    "customers_with_ev_train, customers_with_ev_val = train_test_split(with_ev_df[\"customer\"].unique(),\n",
    "                                                                  train_size=ts, random_state=123)\n",
    "customers_without_ev_train, customers_without_ev_val = train_test_split(without_ev_df[\"customer\"].unique(),\n",
    "                                                                        train_size=ts, random_state=123)"
   ]
  },
  {
   "cell_type": "markdown",
   "id": "a120add0",
   "metadata": {},
   "source": [
    "#### Households from the synthetic dataset are used only in the training and test dataset"
   ]
  },
  {
   "cell_type": "code",
   "execution_count": null,
   "id": "8423d32f",
   "metadata": {},
   "outputs": [],
   "source": [
    "def swap_synthetic_data(customers_train, customers_val):\n",
    "    \n",
    "    def swap(A,B,i,j):\n",
    "        temp = B[j]\n",
    "        B[j] = A[i]\n",
    "        A[i] = temp\n",
    "        return A,B\n",
    "    \n",
    "    random.seed(111)\n",
    "\n",
    "    for i in range(len(customers_val)):\n",
    "        if customers_val[i][0] == 'c':\n",
    "            print(i)\n",
    "            while True:\n",
    "                num = random.randint(0, len(customers_train)-1)\n",
    "                if customers_train[num][0] != 'c' and customers_train[num] not in customers_val:\n",
    "                    swap(customers_val,customers_train,i,num)\n",
    "                    break"
   ]
  },
  {
   "cell_type": "code",
   "execution_count": null,
   "id": "98116335",
   "metadata": {},
   "outputs": [],
   "source": [
    "swap_synthetic_data(customers_with_ev_train, customers_with_ev_val)\n",
    "swap_synthetic_data(customers_without_ev_train, customers_without_ev_val)"
   ]
  },
  {
   "cell_type": "markdown",
   "id": "da5aa5e7",
   "metadata": {},
   "source": [
    "#### Split training data into 70% training data and 10% test data"
   ]
  },
  {
   "cell_type": "code",
   "execution_count": null,
   "id": "06a13604",
   "metadata": {},
   "outputs": [],
   "source": [
    "ts = 0.9\n",
    "customers_with_ev_train, customers_with_ev_test = train_test_split(customers_with_ev_train,\n",
    "                                                                  train_size=ts, random_state=123)\n",
    "customers_without_ev_train, customers_without_ev_test = train_test_split(customers_without_ev_train,\n",
    "                                                                        train_size=ts, random_state=123)"
   ]
  },
  {
   "cell_type": "markdown",
   "id": "9fcf9883",
   "metadata": {},
   "source": [
    "### Monthly input time span"
   ]
  },
  {
   "cell_type": "code",
   "execution_count": null,
   "id": "08f2d887",
   "metadata": {},
   "outputs": [],
   "source": [
    "with_ev_df['Month_Number'] = with_ev_df['local_15min'].dt.month\n",
    "\n",
    "grouped_with_ev = with_ev_df.groupby(['customer', 'Month_Number']).agg({'Month_Number': 'first'})\n",
    "grouped_with_ev=grouped_with_ev.reset_index('customer')\n",
    "grouped_with_ev.reset_index(drop=True, inplace=True)\n",
    "grouped_with_ev=grouped_with_ev.to_numpy()\n",
    "\n",
    "\n",
    "without_ev_df['Month_Number'] = without_ev_df['local_15min'].dt.month\n",
    "\n",
    "grouped_without_ev = without_ev_df.groupby(['customer', 'Month_Number']).agg({'Month_Number': 'first'})\n",
    "grouped_without_ev=grouped_without_ev.reset_index('customer')\n",
    "grouped_without_ev.reset_index(drop=True, inplace=True)\n",
    "grouped_without_ev=grouped_without_ev.to_numpy()"
   ]
  },
  {
   "cell_type": "code",
   "execution_count": null,
   "id": "2c03bf9e",
   "metadata": {},
   "outputs": [],
   "source": [
    "def create_train_test_val_set(customers_with_ev, customers_without_ev, time_interval):\n",
    "    \n",
    "    x_set = pd.DataFrame()\n",
    "    for i in customers_with_ev:\n",
    "        print(i + \"-----------------------------------\")\n",
    "        for j in grouped_with_ev:\n",
    "            if i == j[0]:\n",
    "                print(j)\n",
    "                x_set=pd.concat([x_set,with_ev_df['grid'].loc[(with_ev_df['customer'] == j[0]) & (with_ev_df[time_interval] == j[1])].reset_index(drop=True)], ignore_index=True, axis=1)\n",
    "\n",
    "    y_set = np.ones(x_set.shape[1])\n",
    "    \n",
    "    for i in customers_without_ev:\n",
    "        print(i + \"-----------------------------------\")\n",
    "        for j in grouped_without_ev:\n",
    "            if i == j[0]:\n",
    "                print(j)\n",
    "                x_set=pd.concat([x_set,without_ev_df['grid'].loc[(without_ev_df['customer'] == j[0]) & (without_ev_df[time_interval] == j[1])].reset_index(drop=True)], ignore_index=True, axis=1)\n",
    "\n",
    "    y_set = pd.DataFrame(np.concatenate([y_set, np.zeros(x_set.shape[1] - len(y_set))])).astype(int)\n",
    "    \n",
    "    if time_interval == 'Month_Number':\n",
    "        x_set=x_set.loc[:719,:].T.fillna(0)\n",
    "        \n",
    "    if time_interval == 'Week_Number':\n",
    "        x_set=x_set.loc[:167,:].T.fillna(0)\n",
    "        \n",
    "    if time_interval == 'Day_Number':\n",
    "        x_set=x_set.T.fillna(0)\n",
    "        \n",
    "    return x_set, y_set"
   ]
  },
  {
   "cell_type": "code",
   "execution_count": null,
   "id": "6b8d3fea",
   "metadata": {},
   "outputs": [],
   "source": [
    "X_train,Y_train=create_train_test_val_set(customers_with_ev_train, customers_without_ev_train, 'Month_Number')\n",
    "\n",
    "X_test,Y_test=create_train_test_val_set(customers_with_ev_test, customers_without_ev_test, 'Month_Number')\n",
    "\n",
    "X_val,Y_val=create_train_test_val_set(customers_with_ev_val, customers_without_ev_val, 'Month_Number')"
   ]
  },
  {
   "cell_type": "code",
   "execution_count": null,
   "id": "0dffa820",
   "metadata": {},
   "outputs": [],
   "source": [
    "discr = np.linspace(-10, 20, 100).reshape(-1, 1)\n",
    "\n",
    "def calc_kde(X, discr=discr):\n",
    "    kde = KernelDensity(kernel='gaussian', bandwidth=.75).fit(X.values.reshape(-1, 1))\n",
    "    return np.exp(kde.score_samples(discr))"
   ]
  },
  {
   "cell_type": "code",
   "execution_count": null,
   "id": "76287b79",
   "metadata": {},
   "outputs": [],
   "source": [
    "X_train_KDE = pd.DataFrame(np.stack(X_train.apply(calc_kde, axis=1).values))\n",
    "\n",
    "X_test_KDE = pd.DataFrame(np.stack(X_test.apply(calc_kde, axis=1).values))\n",
    "\n",
    "X_val_KDE = pd.DataFrame(np.stack(X_val.apply(calc_kde, axis=1).values))"
   ]
  },
  {
   "cell_type": "code",
   "execution_count": null,
   "id": "8b0fc8f3",
   "metadata": {},
   "outputs": [],
   "source": [
    "path = ''\n",
    "\n",
    "X_train.to_csv(path + 'ev/monthly/X_train.csv', sep=',', encoding='utf-8', index=False)\n",
    "X_test.to_csv(path + 'ev/monthly/X_test.csv', sep=',', encoding='utf-8', index=False)\n",
    "X_val.to_csv(path + 'ev/monthly/X_val.csv', sep=',', encoding='utf-8', index=False)\n",
    "\n",
    "X_train_KDE.to_csv(path + 'ev/monthly/X_train_KDE.csv', sep=',', encoding='utf-8', index=False)\n",
    "X_test_KDE.to_csv(path + 'ev/monthly/X_test_KDE.csv', sep=',', encoding='utf-8', index=False)\n",
    "X_val_KDE.to_csv(path + 'ev/monthly/X_val_KDE.csv', sep=',', encoding='utf-8', index=False)\n",
    "\n",
    "Y_train.to_csv(path + 'ev/monthly/Y_train.csv', sep=',', encoding='utf-8', index=False)\n",
    "Y_test.to_csv(path + 'ev/monthly/Y_test.csv', sep=',', encoding='utf-8', index=False)\n",
    "Y_val.to_csv(path + 'ev/monthly/Y_val.csv', sep=',', encoding='utf-8', index=False)"
   ]
  },
  {
   "cell_type": "markdown",
   "id": "f0205c0c",
   "metadata": {},
   "source": [
    "### Weekly input time span"
   ]
  },
  {
   "cell_type": "code",
   "execution_count": null,
   "id": "ec01c950",
   "metadata": {},
   "outputs": [],
   "source": [
    "with_ev_df['Week_Number'] = with_ev_df['local_15min'].dt.week\n",
    "\n",
    "grouped_with_ev = with_ev_df.groupby(['customer', 'Week_Number']).agg({'Week_Number': 'first'})\n",
    "grouped_with_ev=grouped_with_ev.reset_index('customer')\n",
    "grouped_with_ev.reset_index(drop=True, inplace=True)\n",
    "grouped_with_ev=grouped_with_ev.to_numpy()\n",
    "\n",
    "\n",
    "without_ev_df['Week_Number'] = without_ev_df['local_15min'].dt.week\n",
    "\n",
    "grouped_without_ev = without_ev_df.groupby(['customer', 'Week_Number']).agg({'Week_Number': 'first'})\n",
    "grouped_without_ev=grouped_without_ev.reset_index('customer')\n",
    "grouped_without_ev.reset_index(drop=True, inplace=True)\n",
    "grouped_without_ev=grouped_without_ev.to_numpy()"
   ]
  },
  {
   "cell_type": "code",
   "execution_count": null,
   "id": "b0b53b15",
   "metadata": {},
   "outputs": [],
   "source": [
    "X_train,Y_train=create_train_test_val_set(customers_with_ev_train, customers_without_ev_train, 'Week_Number')\n",
    "\n",
    "X_test,Y_test=create_train_test_val_set(customers_with_ev_test, customers_without_ev_test, 'Week_Number')\n",
    "\n",
    "X_val,Y_val=create_train_test_val_set(customers_with_ev_val, customers_without_ev_val, 'Week_Number')"
   ]
  },
  {
   "cell_type": "code",
   "execution_count": null,
   "id": "2d7bf7e3",
   "metadata": {},
   "outputs": [],
   "source": [
    "X_train_KDE = pd.DataFrame(np.stack(X_train.apply(calc_kde, axis=1).values))\n",
    "\n",
    "X_test_KDE = pd.DataFrame(np.stack(X_test.apply(calc_kde, axis=1).values))\n",
    "\n",
    "X_val_KDE = pd.DataFrame(np.stack(X_val.apply(calc_kde, axis=1).values))"
   ]
  },
  {
   "cell_type": "code",
   "execution_count": null,
   "id": "8ac4c575",
   "metadata": {},
   "outputs": [],
   "source": [
    "path = ''\n",
    "\n",
    "X_train.to_csv(path + 'ev/weekly/X_train.csv', sep=',', encoding='utf-8', index=False)\n",
    "X_test.to_csv(path + 'ev/weekly/X_test.csv', sep=',', encoding='utf-8', index=False)\n",
    "X_val.to_csv(path + 'ev/weekly/X_val.csv', sep=',', encoding='utf-8', index=False)\n",
    "\n",
    "X_train_KDE.to_csv(path + 'ev/weekly/X_train_KDE.csv', sep=',', encoding='utf-8', index=False)\n",
    "X_test_KDE.to_csv(path + 'ev/weekly/X_test_KDE.csv', sep=',', encoding='utf-8', index=False)\n",
    "X_val_KDE.to_csv(path + 'ev/weekly/X_val_KDE.csv', sep=',', encoding='utf-8', index=False)\n",
    "\n",
    "Y_train.to_csv(path + 'ev/weekly/Y_train.csv', sep=',', encoding='utf-8', index=False)\n",
    "Y_test.to_csv(path + 'ev/weekly/Y_test.csv', sep=',', encoding='utf-8', index=False)\n",
    "Y_val.to_csv(path + 'ev/weekly/Y_val.csv', sep=',', encoding='utf-8', index=False)"
   ]
  },
  {
   "cell_type": "markdown",
   "id": "8eefc409",
   "metadata": {},
   "source": [
    "### Daily input time span"
   ]
  },
  {
   "cell_type": "code",
   "execution_count": null,
   "id": "55137aef",
   "metadata": {},
   "outputs": [],
   "source": [
    "with_ev_df['Day_Number'] = with_ev_df['local_15min'].dt.date\n",
    "\n",
    "grouped_with_ev = with_ev_df.groupby(['customer', 'Day_Number']).agg({'Day_Number': 'first'})\n",
    "grouped_with_ev=grouped_with_ev.reset_index('customer')\n",
    "grouped_with_ev.reset_index(drop=True, inplace=True)\n",
    "grouped_with_ev=grouped_with_ev.to_numpy()\n",
    "\n",
    "\n",
    "without_ev_df['Day_Number'] = without_ev_df['local_15min'].dt.date\n",
    "\n",
    "grouped_without_ev = without_ev_df.groupby(['customer', 'Day_Number']).agg({'Day_Number': 'first'})\n",
    "grouped_without_ev=grouped_without_ev.reset_index('customer')\n",
    "grouped_without_ev.reset_index(drop=True, inplace=True)\n",
    "grouped_without_ev=grouped_without_ev.to_numpy()"
   ]
  },
  {
   "cell_type": "code",
   "execution_count": null,
   "id": "d289ea6f",
   "metadata": {},
   "outputs": [],
   "source": [
    "X_train,Y_train=create_train_test_val_set(customers_with_ev_train, customers_without_ev_train, 'Day_Number')\n",
    "\n",
    "X_test,Y_test=create_train_test_val_set(customers_with_ev_test, customers_without_ev_test, 'Day_Number')\n",
    "\n",
    "X_val,Y_val=create_train_test_val_set(customers_with_ev_val, customers_without_ev_val, 'Day_Number')"
   ]
  },
  {
   "cell_type": "code",
   "execution_count": null,
   "id": "4064b8ff",
   "metadata": {},
   "outputs": [],
   "source": [
    "X_train_KDE = pd.DataFrame(np.stack(X_train.apply(calc_kde, axis=1).values))\n",
    "\n",
    "X_test_KDE = pd.DataFrame(np.stack(X_test.apply(calc_kde, axis=1).values))\n",
    "\n",
    "X_val_KDE = pd.DataFrame(np.stack(X_val.apply(calc_kde, axis=1).values))"
   ]
  },
  {
   "cell_type": "code",
   "execution_count": null,
   "id": "cde6200c",
   "metadata": {},
   "outputs": [],
   "source": [
    "path = ''\n",
    "\n",
    "X_train.to_csv(path + 'ev/daily/X_train.csv', sep=',', encoding='utf-8', index=False)\n",
    "X_test.to_csv(path + 'ev/daily/X_test.csv', sep=',', encoding='utf-8', index=False)\n",
    "X_val.to_csv(path + 'ev/daily/X_val.csv', sep=',', encoding='utf-8', index=False)\n",
    "\n",
    "X_train_KDE.to_csv(path + 'ev/daily/X_train_KDE.csv', sep=',', encoding='utf-8', index=False)\n",
    "X_test_KDE.to_csv(path + 'ev/daily/X_test_KDE.csv', sep=',', encoding='utf-8', index=False)\n",
    "X_val_KDE.to_csv(path + 'ev/daily/X_val_KDE.csv', sep=',', encoding='utf-8', index=False)\n",
    "\n",
    "Y_train.to_csv(path + 'ev/daily/Y_train.csv', sep=',', encoding='utf-8', index=False)\n",
    "Y_test.to_csv(path + 'ev/daily/Y_test.csv', sep=',', encoding='utf-8', index=False)\n",
    "Y_val.to_csv(path + 'ev/daily/Y_val.csv', sep=',', encoding='utf-8', index=False)"
   ]
  }
 ],
 "metadata": {
  "kernelspec": {
   "display_name": "Python 3",
   "language": "python",
   "name": "python3"
  },
  "language_info": {
   "codemirror_mode": {
    "name": "ipython",
    "version": 3
   },
   "file_extension": ".py",
   "mimetype": "text/x-python",
   "name": "python",
   "nbconvert_exporter": "python",
   "pygments_lexer": "ipython3",
   "version": "3.9.5"
  }
 },
 "nbformat": 4,
 "nbformat_minor": 5
}
