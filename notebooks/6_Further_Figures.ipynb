{
 "cells": [
  {
   "cell_type": "markdown",
   "id": "d0748862",
   "metadata": {},
   "source": [
    "<span style=\"color:gray\">\n",
    "Fraunhofer Institute for Integrated Circuits IIS, Division Engineering of Adaptive Systems EAS<br>\n",
    "Münchner Straße 16, 01187 Dresden, Germany\n",
    "</span>\n",
    "\n",
    "---\n",
    "\n",
    "## ESB - Energy Saving by Blockchain\n",
    "\n",
    "---\n",
    "\n",
    "## Detection of Electric Vehicles and Photovoltaic Systems in Smart Meter Data\n",
    "\n",
    "---\n",
    "\n",
    "# 6: Further Figures\n",
    "\n",
    "The source code for the remaining figures found in the paper is presented in this notebook."
   ]
  },
  {
   "cell_type": "code",
   "execution_count": null,
   "id": "255abc82",
   "metadata": {},
   "outputs": [],
   "source": [
    "import pandas as pd\n",
    "import numpy as np\n",
    "import matplotlib.dates as mdates\n",
    "import operator\n",
    "import urllib.request\n",
    "import base64\n",
    "import json\n",
    "import seaborn as sns\n",
    "\n",
    "from matplotlib import pyplot as plt\n",
    "from dateutil import parser\n",
    "from sklearn.neighbors import KernelDensity"
   ]
  },
  {
   "cell_type": "markdown",
   "id": "d35407c9",
   "metadata": {},
   "source": [
    "#### Total energy balance (New York dataset, customer_ID: 27)"
   ]
  },
  {
   "cell_type": "code",
   "execution_count": null,
   "id": "993585c0",
   "metadata": {},
   "outputs": [],
   "source": [
    "path=''\n",
    "\n",
    "newyork = pd.read_csv(path + '1hour_data_newyork.csv', header=0, sep=',',decimal=\".\")\n",
    "\n",
    "newyork['local_15min']=newyork['local_15min'].apply(lambda x: parser.parse(x))\n",
    "\n",
    "x = newyork.loc[:71,'local_15min'].tolist()\n",
    "y = newyork.loc[:71,'grid'].tolist()\n",
    "y1 = newyork.loc[:71,'car1'].tolist()\n",
    "y2 = newyork.loc[:71,'solar'].tolist()\n",
    "y2 = list(map(operator.neg, y2))\n",
    "\n",
    "fig = plt.figure()\n",
    "plt.plot(x,y, linewidth=1.0, label = \"Energy consumption\")\n",
    "plt.plot(x,y1, linewidth=1.0, label = \"Electric vehicle\")\n",
    "plt.plot(x,y2, linewidth=1.0, label = \"Solar cell\")\n",
    "plt.gcf().autofmt_xdate()\n",
    "plt.grid(True)\n",
    "plt.xlabel(\"Time\")\n",
    "plt.ylabel(\"Total energy balance [kWh]\")\n",
    "plt.title(\"Total energy balance (New York dataset, customer_ID: 27)\")\n",
    "plt.ylim(-10, 10)\n",
    "plt.legend()\n",
    "plt.show()"
   ]
  },
  {
   "cell_type": "markdown",
   "id": "9a42a157",
   "metadata": {},
   "source": [
    "#### ACN Charging Session"
   ]
  },
  {
   "cell_type": "code",
   "execution_count": null,
   "id": "c5693858",
   "metadata": {},
   "outputs": [],
   "source": [
    "access_token = ''\n",
    "\n",
    "charging_session = pd.DataFrame()\n",
    "_id='5c2e8674f9af8b13dab075ff'\n",
    "\n",
    "credentials = ('%s:%s' % (access_token, ''))\n",
    "encoded_credentials = base64.b64encode(credentials.encode('ascii'))\n",
    "\n",
    "req = urllib.request.Request(f'https://ev.caltech.edu/api/v1/sessions/caltech/ts/?where=_id==\"{_id}\"')\n",
    "req.add_header('Authorization', 'Basic %s' % encoded_credentials.decode(\"ascii\"))\n",
    "data = json.loads(urllib.request.urlopen(req).read())\n",
    "\n",
    "charging_session=charging_session.append({'time':data['_items'][0]['chargingCurrent']['timestamps'],'ts':data['_items'][0]['chargingCurrent']['current']}, ignore_index=True)\n",
    "charging_session = pd.concat((pd.DataFrame(np.stack(charging_session['time'].values).T, columns=['time']), pd.DataFrame(np.stack(charging_session['ts'].values).T, columns=['ts'])), axis=1) \n",
    "    \n",
    "charging_session['time'] = pd.to_datetime(charging_session['time'], format='%a, %d %b %Y %H:%M:%S %Z') \n",
    "charging_session = charging_session.set_index('time').groupby(pd.Grouper(freq='1min')).agg({'ts':'mean'}).reset_index()\n",
    "charging_session['time']=charging_session['time'].dt.time.astype('str').apply(lambda x: parser.parse(x))\n",
    "\n",
    "time=charging_session['time'].tolist()\n",
    "ts=charging_session['ts'].tolist()\n",
    "\n",
    "\n",
    "fig = plt.figure()\n",
    "plt.plot(time,ts, linewidth=1, label = \"Energy consumption\")\n",
    "plt.gcf().autofmt_xdate()\n",
    "plt.gca().xaxis.set_major_formatter(mdates.DateFormatter('%H:%M:%S'))\n",
    "plt.grid(True)\n",
    "plt.xlabel(\"Time\")\n",
    "plt.ylabel(\"Charging power [kWh]\")\n",
    "plt.title(\"Session_id: 5c2e8674f9af8b13dab075ff\")\n",
    "plt.ylim(0, 20)\n",
    "plt.legend()\n",
    "plt.show()"
   ]
  },
  {
   "cell_type": "markdown",
   "id": "09970111",
   "metadata": {},
   "source": [
    "#### Comparison of kernel density estimates of the synthetic dataset from California with and without electric vehicle charging."
   ]
  },
  {
   "cell_type": "code",
   "execution_count": null,
   "id": "63f55053",
   "metadata": {},
   "outputs": [],
   "source": [
    "path=''\n",
    "\n",
    "california = pd.read_csv (path + '1hour_data_california.csv', header=0, sep=',',decimal=\".\")\n",
    "california_with_EV_id_203 = california.loc[:743,'grid']\n",
    "california_without_EV_id_203 = california.loc[:743,'grid'] - california.loc[:743,'car1']\n",
    "\n",
    "fig, ax = plt.subplots()\n",
    "\n",
    "X=california_with_EV_id_203.to_numpy()[:, np.newaxis]\n",
    "N=len(X)\n",
    "X_plot = np.linspace(-13, 35, 1000)[:, np.newaxis]\n",
    "kde = KernelDensity(kernel='gaussian', bandwidth=0.5).fit(X)\n",
    "log_dens = kde.score_samples(X_plot)\n",
    "a=np.exp(log_dens)\n",
    "ax.plot(X_plot[:, 0], np.exp(log_dens), color='navy', label=\"with EV\")\n",
    "ax.plot(X[:, 0], -0.005 - 0.01 * np.random.random(X.shape[0]), '+k', color='navy')\n",
    "\n",
    "X=california_without_EV_id_203.to_numpy()[:, np.newaxis]\n",
    "N=len(X)\n",
    "X_plot = np.linspace(-5, 35, 1000)[:, np.newaxis]\n",
    "kde = KernelDensity(kernel='gaussian', bandwidth=0.5).fit(X)\n",
    "log_dens = kde.score_samples(X_plot)\n",
    "ax.plot(X_plot[:, 0], np.exp(log_dens), color='darkorange', label=\"without EV\")\n",
    "ax.plot(X[:, 0], -0.005 - 0.01 * np.random.random(X.shape[0]), '+k', color='darkorange')\n",
    "\n",
    "fig.suptitle('Kernel Density Estimation (California dataset)', fontsize=12)\n",
    "ax.legend(loc='upper right')\n",
    "ax.set_xlim(-3, 20)\n",
    "ax.set_ylim(-0.02, 0.8)\n",
    "ax.set_xlabel(\"Charging power [kWh]\") \n",
    "ax.set_ylabel(\"Density\") \n",
    "plt.show()"
   ]
  },
  {
   "cell_type": "markdown",
   "id": "34c279ee",
   "metadata": {},
   "source": [
    "#### Histrogram of the charging capacities of charging processes of the ACN dataset"
   ]
  },
  {
   "cell_type": "code",
   "execution_count": null,
   "id": "5e68d8bc",
   "metadata": {},
   "outputs": [],
   "source": [
    "access_token = ''\n",
    "\n",
    "def concat_charging_cycles(access_token, location, number_of_charge_cycles):\n",
    "\n",
    "    credentials = ('%s:%s' % (access_token, ''))\n",
    "    encoded_credentials = base64.b64encode(credentials.encode('ascii'))\n",
    "\n",
    "    location_concat = pd.DataFrame()\n",
    " \n",
    "    for i in range(1, number_of_charge_cycles):\n",
    "        req = urllib.request.Request(f'https://ev.caltech.edu/api/v1/sessions/{location}?&page={i}')\n",
    "        req.add_header('Authorization', 'Basic %s' % encoded_credentials.decode(\"ascii\"))\n",
    "        data = json.loads(urllib.request.urlopen(req).read())\n",
    "\n",
    "        location_id=data['_items'][0]['_id']\n",
    "        print(f\"{i}. {location}_id: {location_id}\")\n",
    "    \n",
    "        req = urllib.request.Request(f'https://ev.caltech.edu/api/v1/sessions/{location}/ts/?where=_id==\"{location_id}\"')\n",
    "        req.add_header('Authorization', 'Basic %s' % encoded_credentials.decode(\"ascii\"))\n",
    "        data = json.loads(urllib.request.urlopen(req).read())\n",
    "    \n",
    "        location_ts = pd.DataFrame()\n",
    "        \n",
    "        if data['_items'][0]['chargingCurrent'] != None:\n",
    "        \n",
    "            location_ts=location_ts.append({'ts':data['_items'][0]['chargingCurrent']['current']}, ignore_index=True)\n",
    "            location_ts=pd.DataFrame(np.stack(location_ts['ts'].values)).T\n",
    " \n",
    "            location_concat = pd.concat([location_concat,location_ts]).reset_index(drop=True)\n",
    "        \n",
    "    return location_concat"
   ]
  },
  {
   "cell_type": "code",
   "execution_count": null,
   "id": "ebc14977",
   "metadata": {},
   "outputs": [],
   "source": [
    "office001_ts_concat = concat_charging_cycles(access_token, 'office001', 60)  \n",
    "office001_ts_concat = office001_ts_concat[office001_ts_concat != 0]\n",
    "office001_ts_concat = office001_ts_concat.dropna().reset_index(drop=True)\n",
    "\n",
    "jpl_ts_concat = concat_charging_cycles(access_token, 'jpl', 150)  \n",
    "jpl_ts_concat = jpl_ts_concat[jpl_ts_concat != 0]\n",
    "jpl_ts_concat = jpl_ts_concat.dropna().reset_index(drop=True)\n",
    "\n",
    "caltech_ts_concat = concat_charging_cycles(access_token, 'caltech', 60)  \n",
    "caltech_ts_concat = caltech_ts_concat[caltech_ts_concat != 0]\n",
    "caltech_ts_concat = caltech_ts_concat.dropna().reset_index(drop=True)\n",
    "\n",
    "office001_ts_concat['Locations'] = 'Office 1'\n",
    "jpl_ts_concat['Locations'] = 'JPL'\n",
    "caltech_ts_concat['Locations'] = 'Caltech'\n",
    "\n",
    "locations = pd.concat([office001_ts_concat, jpl_ts_concat, caltech_ts_concat], ignore_index=True)"
   ]
  },
  {
   "cell_type": "code",
   "execution_count": null,
   "id": "8149e496",
   "metadata": {},
   "outputs": [],
   "source": [
    "fig = plt.figure()\n",
    "sns.histplot(x= 0,\n",
    "             data=locations,\n",
    "             bins=64,\n",
    "             color =\"navy\",\n",
    "             hue=\"Locations\",\n",
    "             alpha=1)\n",
    "plt.ylabel(\"Frequency\")\n",
    "plt.xlabel(\"Charging power [kWh]\")\n",
    "plt.title(\"Histogram ACN datasets\")\n",
    "plt.rc('axes', axisbelow=True)\n",
    "plt.grid(True)\n",
    "plt.show()"
   ]
  }
 ],
 "metadata": {
  "kernelspec": {
   "display_name": "Python 3",
   "language": "python",
   "name": "python3"
  },
  "language_info": {
   "codemirror_mode": {
    "name": "ipython",
    "version": 3
   },
   "file_extension": ".py",
   "mimetype": "text/x-python",
   "name": "python",
   "nbconvert_exporter": "python",
   "pygments_lexer": "ipython3",
   "version": "3.9.5"
  }
 },
 "nbformat": 4,
 "nbformat_minor": 5
}
