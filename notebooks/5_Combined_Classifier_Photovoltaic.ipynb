{
 "cells": [
  {
   "cell_type": "markdown",
   "id": "6cb46800",
   "metadata": {},
   "source": [
    "<span style=\"color:gray\">\n",
    "Fraunhofer Institute for Integrated Circuits IIS, Division Engineering of Adaptive Systems EAS<br>\n",
    "Münchner Straße 16, 01187 Dresden, Germany\n",
    "</span>\n",
    "\n",
    "---\n",
    "\n",
    "## ESB - Energy Saving by Blockchain\n",
    "\n",
    "---\n",
    "\n",
    "## Detection of Electric Vehicles and Photovoltaic Systems in Smart Meter Data\n",
    "\n",
    "---\n",
    "\n",
    "# 5: Combined Classifiers Photovoltaic\n",
    "\n",
    "\n",
    "In this notebook, the Combined Classifier for detecting power generation of a photovoltaic system is applied to the preprocessed datasets of different input time spans. Furthermore, the feature importances of the Multilayer Perceptron branch of the Combined Classifier are analyzed. Finally, the classification result of the Combined Classifier is shown in a confusion matrix.\n",
    "\n",
    "###### The following classification is performed for the monthly input time span"
   ]
  },
  {
   "cell_type": "code",
   "execution_count": null,
   "id": "73a41479",
   "metadata": {},
   "outputs": [],
   "source": [
    "import pandas as pd\n",
    "import numpy as np\n",
    "import matplotlib.pyplot as plt\n",
    "from tensorflow.keras.models import Model\n",
    "from tensorflow.keras.layers import Dense, Input, Conv1D, Flatten, MaxPooling1D, AveragePooling1D, concatenate, LeakyReLU\n",
    "from tensorflow.keras.optimizers import Adam\n",
    "from tensorflow.keras.callbacks import ModelCheckpoint\n",
    "from tensorflow.keras.models import load_model\n",
    "from tensorflow.keras.utils import plot_model\n",
    "from tensorflow.keras.wrappers.scikit_learn import KerasClassifier\n",
    "from sklearn.inspection import permutation_importance\n",
    "from sklearn.metrics import ConfusionMatrixDisplay"
   ]
  },
  {
   "cell_type": "code",
   "execution_count": null,
   "id": "7f1c3163",
   "metadata": {},
   "outputs": [],
   "source": [
    "path=''\n",
    "\n",
    "X_train = pd.read_csv(path + 'solar/monthly/X_train.csv', header=0, sep=',',decimal=\".\").to_numpy()\n",
    "X_test = pd.read_csv(path + 'solar/monthly/X_test.csv', header=0, sep=',',decimal=\".\").to_numpy()\n",
    "X_val = pd.read_csv(path + 'solar/monthly/X_val.csv', header=0, sep=',',decimal=\".\").to_numpy()\n",
    "\n",
    "X_train_KDE = pd.read_csv(path + 'solar/monthly/X_train_KDE.csv', header=0, sep=',',decimal=\".\").to_numpy()\n",
    "X_test_KDE = pd.read_csv(path + 'solar/monthly/X_test_KDE.csv', header=0, sep=',',decimal=\".\").to_numpy()\n",
    "X_val_KDE = pd.read_csv(path + 'solar/monthly/X_val_KDE.csv', header=0, sep=',',decimal=\".\").to_numpy()\n",
    "\n",
    "Y_train = pd.read_csv(path + 'solar/monthly/Y_train.csv', header=0, sep=',',decimal=\".\").to_numpy()\n",
    "Y_test = pd.read_csv(path + 'solar/monthly/Y_test.csv', header=0, sep=',',decimal=\".\").to_numpy()\n",
    "Y_val = pd.read_csv(path + 'solar/monthly/Y_val.csv', header=0, sep=',',decimal=\".\").to_numpy()"
   ]
  },
  {
   "cell_type": "code",
   "execution_count": null,
   "id": "42d6ae57",
   "metadata": {},
   "outputs": [],
   "source": [
    "X_train = X_train.reshape(X_train.shape[0], X_train.shape[1], 1)\n",
    "X_test = X_test.reshape(X_test.shape[0], X_test.shape[1], 1)\n",
    "X_val = X_val.reshape(X_val.shape[0], X_val.shape[1], 1)\n",
    "\n",
    "X_train_KDE = X_train_KDE.reshape(X_train_KDE.shape[0], X_train_KDE.shape[1], 1)\n",
    "X_test_KDE = X_test_KDE.reshape(X_test_KDE.shape[0], X_test_KDE.shape[1], 1)\n",
    "X_val_KDE = X_val_KDE.reshape(X_val_KDE.shape[0], X_val_KDE.shape[1], 1)\n",
    "\n",
    "Y_train = Y_train.reshape(len(Y_train), )\n",
    "Y_test = Y_test.reshape(len(Y_test), )\n",
    "Y_val = Y_val.reshape(len(Y_val), )"
   ]
  },
  {
   "cell_type": "markdown",
   "id": "f0956853",
   "metadata": {},
   "source": [
    "#### Multilayer Perceptron"
   ]
  },
  {
   "cell_type": "code",
   "execution_count": null,
   "id": "1d9f1154",
   "metadata": {},
   "outputs": [],
   "source": [
    "best_model_filepath = ''\n",
    "\n",
    "learning_rate=0.0005\n",
    "\n",
    "X_in = Input(shape=(X_train_KDE.shape[1]))\n",
    "x = Dense(units=400)(X_in)\n",
    "x=LeakyReLU(alpha=0.05)(x)\n",
    "x = Dense(units=400)(x)\n",
    "x=LeakyReLU(alpha=0.05)(x)\n",
    "x = Dense(units=400)(x)\n",
    "x=LeakyReLU(alpha=0.05)(x)\n",
    "x = Dense(units=400)(x)\n",
    "x=LeakyReLU(alpha=0.05)(x)\n",
    "X_out = Dense(units=1, activation='sigmoid')(x)\n",
    "\n",
    "classifier_mlp = Model(X_in, X_out)\n",
    "classifier_mlp.compile(optimizer = Adam(learning_rate=learning_rate), \n",
    "                   loss = 'binary_crossentropy',  \n",
    "                   metrics = ['accuracy'])\n",
    "\n",
    "classifier_mlp.summary()\n",
    "plot_model(classifier_mlp)\n",
    "\n",
    "\n",
    "checkpoint = ModelCheckpoint(best_model_filepath, monitor='val_loss', verbose=1, save_best_only=True, mode='min')\n",
    "\n",
    "weight_for_0 = len(Y_train)/(2*len(Y_train[Y_train==0]))\n",
    "weight_for_1 = len(Y_train)/(2*len(Y_train[Y_train==1]))\n",
    "class_weight = {0: weight_for_0, 1: weight_for_1}\n",
    "\n",
    "\n",
    "classifier_mlp.fit(X_train_KDE[:,:,0], Y_train,\n",
    "                    epochs = 200,\n",
    "                    batch_size = 64,\n",
    "                    validation_data=(X_test_KDE[:,:,0], Y_test),  #X_test_KDE\n",
    "                    callbacks=[checkpoint], \n",
    "                    class_weight=class_weight)\n",
    "\n",
    "classifier_mlp = load_model(best_model_filepath)\n",
    "score = classifier_mlp.evaluate(X_val_KDE[:,:,0], Y_val)\n",
    "\n",
    "print(f\"Solar Systems can be detected with an accuracy of {100*classifier_mlp.evaluate(X_val_KDE[:,:,0], Y_val)[1]:.2f} % on unseen data.\")"
   ]
  },
  {
   "cell_type": "markdown",
   "id": "90a32bdd",
   "metadata": {},
   "source": [
    "#### Calculate and Plot the Feature Importance of the Multilayer Perceptron branch"
   ]
  },
  {
   "cell_type": "code",
   "execution_count": null,
   "id": "8f5ff8ca",
   "metadata": {},
   "outputs": [],
   "source": [
    "def nn_build_fn():\n",
    "    return classifier_mlp\n",
    "classifier_sklearn_format = KerasClassifier(build_fn=nn_build_fn)\n",
    "classifier_sklearn_format.fit(X_train_KDE, Y_train,\n",
    "                    epochs = 1,\n",
    "                    batch_size = 64,\n",
    "                    class_weight=class_weight)\n",
    "classifier_mlp = load_model(best_model_filepath)\n",
    "classifier_sklearn_format.model = classifier_mlp\n",
    "classifier_sklearn_format.score(X_val_KDE, Y_val)\n",
    "r = permutation_importance(classifier_sklearn_format, X_train_KDE[:,:,0], Y_train, n_repeats=30, random_state=0)"
   ]
  },
  {
   "cell_type": "code",
   "execution_count": null,
   "id": "205b33bb",
   "metadata": {},
   "outputs": [],
   "source": [
    "discr = np.linspace(-10, 20, 100).reshape(-1, 1)\n",
    "\n",
    "fig = plt.figure()\n",
    "plt.plot(discr, r['importances_mean'])\n",
    "plt.xlabel(\"Energy [kWh]\")\n",
    "plt.ylabel(\"Feature Importance\")\n",
    "plt.ylim(-0.01, 0.1)\n",
    "plt.title(\"Feature Importances for Solar System\")\n",
    "plt.grid(True)\n",
    "plt.show()"
   ]
  },
  {
   "cell_type": "markdown",
   "id": "69f1ea4e",
   "metadata": {},
   "source": [
    "#### Convolutional Neural Network"
   ]
  },
  {
   "cell_type": "code",
   "execution_count": null,
   "id": "99a9964d",
   "metadata": {},
   "outputs": [],
   "source": [
    "best_model_filepath = ''\n",
    "\n",
    "X_in = Input(shape=(X_train.shape[1],1))\n",
    "x2 = Conv1D(32, 5, activation=\"relu\")(X_in)\n",
    "x2 = MaxPooling1D(strides=2)(x2)\n",
    "x2 = Conv1D(32, 5, activation=\"relu\")(x2)\n",
    "x2 = MaxPooling1D(strides=2)(x2)\n",
    "x2 = Conv1D(64, 5, activation=\"relu\")(x2)\n",
    "x2 = MaxPooling1D(strides=2)(x2)\n",
    "x2 = Conv1D(64, 5, activation=\"relu\")(x2)\n",
    "x2 = MaxPooling1D(strides=2)(x2)\n",
    "x2_inter_b = Flatten()(x2)\n",
    "x = Dense(units=400)(x2_inter_b)\n",
    "x=LeakyReLU(alpha=0.05)(x)\n",
    "X_out = Dense(units=1, activation='sigmoid', name=\"cnn_output\")(x)\n",
    "\n",
    "classifier_cnn = Model(X_in, X_out)\n",
    "\n",
    "classifier_cnn = Model(X_in, X_out)\n",
    "classifier_cnn.compile(optimizer = Adam(learning_rate=learning_rate),\n",
    "                   loss = 'binary_crossentropy',\n",
    "                   metrics = ['accuracy'])\n",
    "\n",
    "classifier_cnn.summary()\n",
    "plot_model(classifier_cnn)\n",
    "\n",
    "\n",
    "checkpoint = ModelCheckpoint(best_model_filepath, monitor='val_loss', verbose=1, save_best_only=True, mode='min')\n",
    "\n",
    "\n",
    "n_epochs=100\n",
    "classifier_cnn.fit(X_train, Y_train,\n",
    "                    epochs = n_epochs,\n",
    "                    batch_size = 64,\n",
    "                    validation_data=(X_test, Y_test), \n",
    "                    callbacks=[checkpoint], \n",
    "                    class_weight=class_weight)\n",
    "classifier_cnn = load_model(best_model_filepath)\n",
    "score = classifier_cnn.evaluate(X_val, Y_val)\n",
    "\n",
    "\n",
    "print(f\"Solar Systems can be detected with an accuracy of {100*classifier_cnn.evaluate(X_val, Y_val)[1]:.2f} % on unseen data.\")"
   ]
  },
  {
   "cell_type": "markdown",
   "id": "ddbfd754",
   "metadata": {},
   "source": [
    "#### Combined Model"
   ]
  },
  {
   "cell_type": "code",
   "execution_count": null,
   "id": "2a986d2d",
   "metadata": {},
   "outputs": [],
   "source": [
    "# MLP\n",
    "X1_in = classifier_mlp.input\n",
    "x1_inter = classifier_mlp.layers[-2].output\n",
    "part_mlp = Model(X1_in, x1_inter)\n",
    "part_mlp.trainable=False\n",
    "\n",
    "# CNN\n",
    "X2_in = classifier_cnn.input\n",
    "x2_inter = classifier_cnn.layers[-2].output\n",
    "part_cnn = Model(X2_in, x2_inter)\n",
    "part_cnn.trainable=False\n",
    "\n",
    "\n",
    "# Combined\n",
    "x_combined = concatenate([x1_inter, x2_inter])\n",
    "x = Dense(units=200, activation='relu')(x_combined)\n",
    "X_out = Dense(units=1, activation='sigmoid', name=\"combined_output\")(x)\n",
    "\n",
    "classifier_combined = Model([X1_in,X2_in], X_out)\n",
    "classifier_combined.compile(optimizer = Adam(learning_rate=learning_rate),\n",
    "                   loss = 'binary_crossentropy',\n",
    "                   metrics = ['accuracy'])\n",
    "\n",
    "classifier_combined.summary()\n",
    "plot_model(classifier_combined)\n",
    "\n",
    "\n",
    "\n",
    "weight_for_0 = len(Y_train)/(2*len(Y_train[Y_train==0]))\n",
    "weight_for_1 = len(Y_train)/(2*len(Y_train[Y_train==1]))\n",
    "class_weight = {0: weight_for_0, 1: weight_for_1}\n",
    "\n",
    "\n",
    "n_epochs=100\n",
    "classifier_combined.fit([X_test_KDE,X_test], Y_test,\n",
    "                    epochs = n_epochs,\n",
    "                    batch_size = 64,\n",
    "                    validation_data=([X_test_KDE,X_test], Y_test), \n",
    "                    class_weight=class_weight)\n",
    "score = classifier_combined.evaluate([X_val_KDE,X_val], Y_val)\n",
    "\n",
    "print(f\"Solar Systems can be detected with an accuracy of {100*classifier_combined.evaluate([X_val_KDE,X_val], Y_val)[1]:.2f} % on unseen data.\")"
   ]
  },
  {
   "cell_type": "markdown",
   "id": "1c70b55f",
   "metadata": {},
   "source": [
    "#### Plot Confusion Matrix"
   ]
  },
  {
   "cell_type": "code",
   "execution_count": null,
   "id": "c724e37d",
   "metadata": {},
   "outputs": [],
   "source": [
    "pred_label = np.where((classifier_combined.predict([X_val_KDE,X_val]) >= 0.5),\"with Solar\",\"without Solar\")\n",
    "\n",
    "Y_val_label = np.where((Y_val >= 0.5),\"with Solar\",\"without Solar\").reshape(len(Y_val), 1)\n",
    "\n",
    "fig, ax = plt.subplots(figsize=(8, 6))\n",
    "ConfusionMatrixDisplay.from_predictions(Y_val_label, pred_label,\n",
    "                                        labels=[\"without Solar\",\"with Solar\"],\n",
    "                                        ax=ax,colorbar=False)\n",
    "plt.title(\"Confusion Matrix for Monthly Input Period\")\n",
    "plt.tight_layout()\n",
    "plt.show()"
   ]
  }
 ],
 "metadata": {
  "kernelspec": {
   "display_name": "Python 3",
   "language": "python",
   "name": "python3"
  },
  "language_info": {
   "codemirror_mode": {
    "name": "ipython",
    "version": 3
   },
   "file_extension": ".py",
   "mimetype": "text/x-python",
   "name": "python",
   "nbconvert_exporter": "python",
   "pygments_lexer": "ipython3",
   "version": "3.9.5"
  }
 },
 "nbformat": 4,
 "nbformat_minor": 5
}
